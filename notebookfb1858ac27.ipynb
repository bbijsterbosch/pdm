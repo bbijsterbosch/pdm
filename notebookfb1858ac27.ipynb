{
 "cells": [
  {
   "cell_type": "code",
   "execution_count": 1,
   "id": "7c9977c0",
   "metadata": {
    "execution": {
     "iopub.execute_input": "2024-03-28T08:48:39.019852Z",
     "iopub.status.busy": "2024-03-28T08:48:39.019564Z",
     "iopub.status.idle": "2024-03-28T08:48:53.412523Z",
     "shell.execute_reply": "2024-03-28T08:48:53.411565Z"
    },
    "papermill": {
     "duration": 14.399215,
     "end_time": "2024-03-28T08:48:53.414998",
     "exception": false,
     "start_time": "2024-03-28T08:48:39.015783",
     "status": "completed"
    },
    "tags": []
   },
   "outputs": [
    {
     "name": "stdout",
     "output_type": "stream",
     "text": [
      "Collecting yaspin\r\n",
      "  Downloading yaspin-3.0.1-py3-none-any.whl.metadata (14 kB)\r\n",
      "Requirement already satisfied: termcolor<3.0,>=2.3 in /opt/conda/lib/python3.10/site-packages (from yaspin) (2.4.0)\r\n",
      "Downloading yaspin-3.0.1-py3-none-any.whl (17 kB)\r\n",
      "Installing collected packages: yaspin\r\n",
      "Successfully installed yaspin-3.0.1\r\n"
     ]
    }
   ],
   "source": [
    "!pip install yaspin "
   ]
  },
  {
   "cell_type": "code",
   "execution_count": 2,
   "id": "34aabbbd",
   "metadata": {
    "execution": {
     "iopub.execute_input": "2024-03-28T08:48:53.422671Z",
     "iopub.status.busy": "2024-03-28T08:48:53.422355Z",
     "iopub.status.idle": "2024-03-28T08:49:05.992556Z",
     "shell.execute_reply": "2024-03-28T08:49:05.991430Z"
    },
    "papermill": {
     "duration": 12.576792,
     "end_time": "2024-03-28T08:49:05.995071",
     "exception": false,
     "start_time": "2024-03-28T08:48:53.418279",
     "status": "completed"
    },
    "tags": []
   },
   "outputs": [
    {
     "name": "stdout",
     "output_type": "stream",
     "text": [
      "Requirement already satisfied: torch in /opt/conda/lib/python3.10/site-packages (2.1.2)\r\n",
      "Requirement already satisfied: numpy in /opt/conda/lib/python3.10/site-packages (1.26.4)\r\n",
      "Collecting pytorch_msssim\r\n",
      "  Downloading pytorch_msssim-1.0.0-py3-none-any.whl.metadata (8.0 kB)\r\n",
      "Requirement already satisfied: tqdm in /opt/conda/lib/python3.10/site-packages (4.66.1)\r\n",
      "Requirement already satisfied: torchvision in /opt/conda/lib/python3.10/site-packages (0.16.2)\r\n",
      "Collecting dahuffman\r\n",
      "  Downloading dahuffman-0.4.1-py2.py3-none-any.whl.metadata (4.7 kB)\r\n",
      "Requirement already satisfied: Pillow in /opt/conda/lib/python3.10/site-packages (9.5.0)\r\n",
      "Requirement already satisfied: tensorboard in /opt/conda/lib/python3.10/site-packages (2.15.1)\r\n",
      "Requirement already satisfied: filelock in /opt/conda/lib/python3.10/site-packages (from torch) (3.13.1)\r\n",
      "Requirement already satisfied: typing-extensions in /opt/conda/lib/python3.10/site-packages (from torch) (4.9.0)\r\n",
      "Requirement already satisfied: sympy in /opt/conda/lib/python3.10/site-packages (from torch) (1.12)\r\n",
      "Requirement already satisfied: networkx in /opt/conda/lib/python3.10/site-packages (from torch) (3.2.1)\r\n",
      "Requirement already satisfied: jinja2 in /opt/conda/lib/python3.10/site-packages (from torch) (3.1.2)\r\n",
      "Requirement already satisfied: fsspec in /opt/conda/lib/python3.10/site-packages (from torch) (2024.3.0)\r\n",
      "Requirement already satisfied: requests in /opt/conda/lib/python3.10/site-packages (from torchvision) (2.31.0)\r\n",
      "Requirement already satisfied: absl-py>=0.4 in /opt/conda/lib/python3.10/site-packages (from tensorboard) (1.4.0)\r\n",
      "Requirement already satisfied: grpcio>=1.48.2 in /opt/conda/lib/python3.10/site-packages (from tensorboard) (1.51.1)\r\n",
      "Requirement already satisfied: google-auth<3,>=1.6.3 in /opt/conda/lib/python3.10/site-packages (from tensorboard) (2.26.1)\r\n",
      "Requirement already satisfied: google-auth-oauthlib<2,>=0.5 in /opt/conda/lib/python3.10/site-packages (from tensorboard) (1.2.0)\r\n",
      "Requirement already satisfied: markdown>=2.6.8 in /opt/conda/lib/python3.10/site-packages (from tensorboard) (3.5.2)\r\n",
      "Requirement already satisfied: protobuf<4.24,>=3.19.6 in /opt/conda/lib/python3.10/site-packages (from tensorboard) (3.20.3)\r\n",
      "Requirement already satisfied: setuptools>=41.0.0 in /opt/conda/lib/python3.10/site-packages (from tensorboard) (69.0.3)\r\n",
      "Requirement already satisfied: six>1.9 in /opt/conda/lib/python3.10/site-packages (from tensorboard) (1.16.0)\r\n",
      "Requirement already satisfied: tensorboard-data-server<0.8.0,>=0.7.0 in /opt/conda/lib/python3.10/site-packages (from tensorboard) (0.7.2)\r\n",
      "Requirement already satisfied: werkzeug>=1.0.1 in /opt/conda/lib/python3.10/site-packages (from tensorboard) (3.0.1)\r\n",
      "Requirement already satisfied: cachetools<6.0,>=2.0.0 in /opt/conda/lib/python3.10/site-packages (from google-auth<3,>=1.6.3->tensorboard) (4.2.4)\r\n",
      "Requirement already satisfied: pyasn1-modules>=0.2.1 in /opt/conda/lib/python3.10/site-packages (from google-auth<3,>=1.6.3->tensorboard) (0.3.0)\r\n",
      "Requirement already satisfied: rsa<5,>=3.1.4 in /opt/conda/lib/python3.10/site-packages (from google-auth<3,>=1.6.3->tensorboard) (4.9)\r\n",
      "Requirement already satisfied: requests-oauthlib>=0.7.0 in /opt/conda/lib/python3.10/site-packages (from google-auth-oauthlib<2,>=0.5->tensorboard) (1.3.1)\r\n",
      "Requirement already satisfied: charset-normalizer<4,>=2 in /opt/conda/lib/python3.10/site-packages (from requests->torchvision) (3.3.2)\r\n",
      "Requirement already satisfied: idna<4,>=2.5 in /opt/conda/lib/python3.10/site-packages (from requests->torchvision) (3.6)\r\n",
      "Requirement already satisfied: urllib3<3,>=1.21.1 in /opt/conda/lib/python3.10/site-packages (from requests->torchvision) (1.26.18)\r\n",
      "Requirement already satisfied: certifi>=2017.4.17 in /opt/conda/lib/python3.10/site-packages (from requests->torchvision) (2024.2.2)\r\n",
      "Requirement already satisfied: MarkupSafe>=2.1.1 in /opt/conda/lib/python3.10/site-packages (from werkzeug>=1.0.1->tensorboard) (2.1.3)\r\n",
      "Requirement already satisfied: mpmath>=0.19 in /opt/conda/lib/python3.10/site-packages (from sympy->torch) (1.3.0)\r\n",
      "Requirement already satisfied: pyasn1<0.6.0,>=0.4.6 in /opt/conda/lib/python3.10/site-packages (from pyasn1-modules>=0.2.1->google-auth<3,>=1.6.3->tensorboard) (0.5.1)\r\n",
      "Requirement already satisfied: oauthlib>=3.0.0 in /opt/conda/lib/python3.10/site-packages (from requests-oauthlib>=0.7.0->google-auth-oauthlib<2,>=0.5->tensorboard) (3.2.2)\r\n",
      "Downloading pytorch_msssim-1.0.0-py3-none-any.whl (7.7 kB)\r\n",
      "Downloading dahuffman-0.4.1-py2.py3-none-any.whl (18 kB)\r\n",
      "Installing collected packages: dahuffman, pytorch_msssim\r\n",
      "Successfully installed dahuffman-0.4.1 pytorch_msssim-1.0.0\r\n"
     ]
    }
   ],
   "source": [
    "!pip install torch numpy pytorch_msssim tqdm torchvision dahuffman Pillow tensorboard"
   ]
  },
  {
   "cell_type": "code",
   "execution_count": 3,
   "id": "5685069d",
   "metadata": {
    "execution": {
     "iopub.execute_input": "2024-03-28T08:49:06.005034Z",
     "iopub.status.busy": "2024-03-28T08:49:06.004705Z",
     "iopub.status.idle": "2024-03-28T08:49:07.000255Z",
     "shell.execute_reply": "2024-03-28T08:49:06.999108Z"
    },
    "papermill": {
     "duration": 1.003436,
     "end_time": "2024-03-28T08:49:07.002913",
     "exception": false,
     "start_time": "2024-03-28T08:49:05.999477",
     "status": "completed"
    },
    "tags": []
   },
   "outputs": [
    {
     "name": "stdout",
     "output_type": "stream",
     "text": [
      "fatal: not a git repository (or any parent up to mount point /kaggle)\r\n",
      "Stopping at filesystem boundary (GIT_DISCOVERY_ACROSS_FILESYSTEM not set).\r\n"
     ]
    }
   ],
   "source": [
    "!git checkout NewDataSet"
   ]
  },
  {
   "cell_type": "code",
   "execution_count": 4,
   "id": "8c032eb7",
   "metadata": {
    "execution": {
     "iopub.execute_input": "2024-03-28T08:49:07.015860Z",
     "iopub.status.busy": "2024-03-28T08:49:07.015533Z",
     "iopub.status.idle": "2024-03-28T08:49:08.068777Z",
     "shell.execute_reply": "2024-03-28T08:49:08.067875Z"
    },
    "papermill": {
     "duration": 1.062217,
     "end_time": "2024-03-28T08:49:08.070974",
     "exception": false,
     "start_time": "2024-03-28T08:49:07.008757",
     "status": "completed"
    },
    "tags": []
   },
   "outputs": [
    {
     "name": "stdout",
     "output_type": "stream",
     "text": [
      "python: can't open file '/kaggle/working/train_nerv.py': [Errno 2] No such file or directory\r\n"
     ]
    }
   ],
   "source": [
    "!python train_nerv.py -e 1200   --lower-width 96 --num-blocks 1 --dataset video01_frames --frame_gap 1 \\\n",
    "    --outf bunny_ab --embed 1.25_40 --stem_dim_num 512_1  --reduction 2  --fc_hw_dim 9_16_26 --expansion 1  \\\n",
    "    --single_res --loss Fusion6   --warmup 0.2 --lr_type cosine  --strides 5 2 2 2 2  --conv_type conv \\\n",
    "    -b 1  --lr 0.0005 --norm none --act swish "
   ]
  },
  {
   "cell_type": "code",
   "execution_count": 5,
   "id": "5c9b7ae7",
   "metadata": {
    "execution": {
     "iopub.execute_input": "2024-03-28T08:49:08.080717Z",
     "iopub.status.busy": "2024-03-28T08:49:08.080445Z",
     "iopub.status.idle": "2024-03-28T08:49:09.115833Z",
     "shell.execute_reply": "2024-03-28T08:49:09.114945Z"
    },
    "papermill": {
     "duration": 1.042819,
     "end_time": "2024-03-28T08:49:09.118024",
     "exception": false,
     "start_time": "2024-03-28T08:49:08.075205",
     "status": "completed"
    },
    "tags": []
   },
   "outputs": [
    {
     "name": "stdout",
     "output_type": "stream",
     "text": [
      "python: can't open file '/kaggle/working/train_nerv.py': [Errno 2] No such file or directory\r\n"
     ]
    }
   ],
   "source": [
    "!python train_nerv.py -e 1025   --lower-width 96 --num-blocks 1 --dataset video01_frames --frame_gap 1 \\\n",
    "    --outf bunny_ab --embed 1.25_40 --stem_dim_num 512_1  --reduction 2  --fc_hw_dim 9_16_26 --expansion 1  \\\n",
    "    --single_res --loss Fusion6   --warmup 0.2 --lr_type cosine  --strides 5 2 2 2 2  --conv_type conv \\\n",
    "    -b 1  --lr 0.0005 --norm none  --act swish \\\n",
    "    --weight checkpoints/nerv_S.pth --eval_only "
   ]
  }
 ],
 "metadata": {
  "kaggle": {
   "accelerator": "nvidiaTeslaT4",
   "dataSources": [
    {
     "datasetId": 3895350,
     "sourceId": 6769351,
     "sourceType": "datasetVersion"
    }
   ],
   "isGpuEnabled": true,
   "isInternetEnabled": true,
   "language": "python",
   "sourceType": "notebook"
  },
  "kernelspec": {
   "display_name": "Python 3",
   "language": "python",
   "name": "python3"
  },
  "language_info": {
   "codemirror_mode": {
    "name": "ipython",
    "version": 3
   },
   "file_extension": ".py",
   "mimetype": "text/x-python",
   "name": "python",
   "nbconvert_exporter": "python",
   "pygments_lexer": "ipython3",
   "version": "3.10.13"
  },
  "papermill": {
   "default_parameters": {},
   "duration": 33.403333,
   "end_time": "2024-03-28T08:49:09.340126",
   "environment_variables": {},
   "exception": null,
   "input_path": "__notebook__.ipynb",
   "output_path": "__notebook__.ipynb",
   "parameters": {},
   "start_time": "2024-03-28T08:48:35.936793",
   "version": "2.5.0"
  }
 },
 "nbformat": 4,
 "nbformat_minor": 5
}
